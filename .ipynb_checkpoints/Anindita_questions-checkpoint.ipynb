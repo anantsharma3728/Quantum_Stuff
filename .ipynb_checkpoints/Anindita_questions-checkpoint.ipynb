{
 "cells": [
  {
   "cell_type": "markdown",
   "id": "88e50bda",
   "metadata": {},
   "source": [
    "# Importing relevent Libraries"
   ]
  },
  {
   "cell_type": "code",
   "execution_count": 136,
   "id": "2e79c198",
   "metadata": {},
   "outputs": [],
   "source": [
    "#import the most common libraries i use\n",
    "\n",
    "import pandas as pd                  #your work library\n",
    "import numpy as np                   #mostly used w pandas for arthmetics\n",
    "import matplotlib.pyplot as plt      #for visulaization\n",
    "import seaborn as sb                 #for better visualization\n",
    "import math                          #to use mathematical constants pi, e and stuff\n",
    "import random                        #helps for creating and using random numbers\n",
    "import time                          #used to time your code, good to keep it around\n",
    "from sklearn.linear_model import LinearRegression  #imports directly a linear regrssion library (Question 5)"
   ]
  },
  {
   "cell_type": "markdown",
   "id": "1261cfc8",
   "metadata": {},
   "source": [
    "# Question 1"
   ]
  },
  {
   "cell_type": "markdown",
   "id": "bdf64590",
   "metadata": {},
   "source": [
    "## Reading a file"
   ]
  },
  {
   "cell_type": "code",
   "execution_count": 56,
   "id": "f4c9c94a",
   "metadata": {},
   "outputs": [],
   "source": [
    "df = pd.read_csv(r'C:\\Users\\Anant Sharma\\Downloads\\effects-of-covid-19-on-trade-at-15-december-2021-provisional.csv')"
   ]
  },
  {
   "cell_type": "markdown",
   "id": "5773d933",
   "metadata": {},
   "source": [
    "### Found some covid related data, idk what it is. If i've not sent the database file lmk"
   ]
  },
  {
   "cell_type": "code",
   "execution_count": 57,
   "id": "86999d8b",
   "metadata": {},
   "outputs": [
    {
     "data": {
      "text/html": [
       "<div>\n",
       "<style scoped>\n",
       "    .dataframe tbody tr th:only-of-type {\n",
       "        vertical-align: middle;\n",
       "    }\n",
       "\n",
       "    .dataframe tbody tr th {\n",
       "        vertical-align: top;\n",
       "    }\n",
       "\n",
       "    .dataframe thead th {\n",
       "        text-align: right;\n",
       "    }\n",
       "</style>\n",
       "<table border=\"1\" class=\"dataframe\">\n",
       "  <thead>\n",
       "    <tr style=\"text-align: right;\">\n",
       "      <th></th>\n",
       "      <th>Direction</th>\n",
       "      <th>Year</th>\n",
       "      <th>Date</th>\n",
       "      <th>Weekday</th>\n",
       "      <th>Country</th>\n",
       "      <th>Commodity</th>\n",
       "      <th>Transport_Mode</th>\n",
       "      <th>Measure</th>\n",
       "      <th>Value</th>\n",
       "      <th>Cumulative</th>\n",
       "    </tr>\n",
       "  </thead>\n",
       "  <tbody>\n",
       "    <tr>\n",
       "      <th>0</th>\n",
       "      <td>Exports</td>\n",
       "      <td>2015</td>\n",
       "      <td>01/01/2015</td>\n",
       "      <td>Thursday</td>\n",
       "      <td>All</td>\n",
       "      <td>All</td>\n",
       "      <td>All</td>\n",
       "      <td>$</td>\n",
       "      <td>104000000</td>\n",
       "      <td>104000000</td>\n",
       "    </tr>\n",
       "    <tr>\n",
       "      <th>1</th>\n",
       "      <td>Exports</td>\n",
       "      <td>2015</td>\n",
       "      <td>02/01/2015</td>\n",
       "      <td>Friday</td>\n",
       "      <td>All</td>\n",
       "      <td>All</td>\n",
       "      <td>All</td>\n",
       "      <td>$</td>\n",
       "      <td>96000000</td>\n",
       "      <td>200000000</td>\n",
       "    </tr>\n",
       "    <tr>\n",
       "      <th>2</th>\n",
       "      <td>Exports</td>\n",
       "      <td>2015</td>\n",
       "      <td>03/01/2015</td>\n",
       "      <td>Saturday</td>\n",
       "      <td>All</td>\n",
       "      <td>All</td>\n",
       "      <td>All</td>\n",
       "      <td>$</td>\n",
       "      <td>61000000</td>\n",
       "      <td>262000000</td>\n",
       "    </tr>\n",
       "    <tr>\n",
       "      <th>3</th>\n",
       "      <td>Exports</td>\n",
       "      <td>2015</td>\n",
       "      <td>04/01/2015</td>\n",
       "      <td>Sunday</td>\n",
       "      <td>All</td>\n",
       "      <td>All</td>\n",
       "      <td>All</td>\n",
       "      <td>$</td>\n",
       "      <td>74000000</td>\n",
       "      <td>336000000</td>\n",
       "    </tr>\n",
       "    <tr>\n",
       "      <th>4</th>\n",
       "      <td>Exports</td>\n",
       "      <td>2015</td>\n",
       "      <td>05/01/2015</td>\n",
       "      <td>Monday</td>\n",
       "      <td>All</td>\n",
       "      <td>All</td>\n",
       "      <td>All</td>\n",
       "      <td>$</td>\n",
       "      <td>105000000</td>\n",
       "      <td>442000000</td>\n",
       "    </tr>\n",
       "    <tr>\n",
       "      <th>...</th>\n",
       "      <td>...</td>\n",
       "      <td>...</td>\n",
       "      <td>...</td>\n",
       "      <td>...</td>\n",
       "      <td>...</td>\n",
       "      <td>...</td>\n",
       "      <td>...</td>\n",
       "      <td>...</td>\n",
       "      <td>...</td>\n",
       "      <td>...</td>\n",
       "    </tr>\n",
       "    <tr>\n",
       "      <th>111433</th>\n",
       "      <td>Reimports</td>\n",
       "      <td>2021</td>\n",
       "      <td>11/12/2021</td>\n",
       "      <td>Saturday</td>\n",
       "      <td>All</td>\n",
       "      <td>All</td>\n",
       "      <td>All</td>\n",
       "      <td>$</td>\n",
       "      <td>0</td>\n",
       "      <td>165000000</td>\n",
       "    </tr>\n",
       "    <tr>\n",
       "      <th>111434</th>\n",
       "      <td>Reimports</td>\n",
       "      <td>2021</td>\n",
       "      <td>12/12/2021</td>\n",
       "      <td>Sunday</td>\n",
       "      <td>All</td>\n",
       "      <td>All</td>\n",
       "      <td>All</td>\n",
       "      <td>$</td>\n",
       "      <td>0</td>\n",
       "      <td>165000000</td>\n",
       "    </tr>\n",
       "    <tr>\n",
       "      <th>111435</th>\n",
       "      <td>Reimports</td>\n",
       "      <td>2021</td>\n",
       "      <td>13/12/2021</td>\n",
       "      <td>Monday</td>\n",
       "      <td>All</td>\n",
       "      <td>All</td>\n",
       "      <td>All</td>\n",
       "      <td>$</td>\n",
       "      <td>2000000</td>\n",
       "      <td>166000000</td>\n",
       "    </tr>\n",
       "    <tr>\n",
       "      <th>111436</th>\n",
       "      <td>Reimports</td>\n",
       "      <td>2021</td>\n",
       "      <td>14/12/2021</td>\n",
       "      <td>Tuesday</td>\n",
       "      <td>All</td>\n",
       "      <td>All</td>\n",
       "      <td>All</td>\n",
       "      <td>$</td>\n",
       "      <td>1000000</td>\n",
       "      <td>167000000</td>\n",
       "    </tr>\n",
       "    <tr>\n",
       "      <th>111437</th>\n",
       "      <td>Reimports</td>\n",
       "      <td>2021</td>\n",
       "      <td>15/12/2021</td>\n",
       "      <td>Wednesday</td>\n",
       "      <td>All</td>\n",
       "      <td>All</td>\n",
       "      <td>All</td>\n",
       "      <td>$</td>\n",
       "      <td>1000000</td>\n",
       "      <td>168000000</td>\n",
       "    </tr>\n",
       "  </tbody>\n",
       "</table>\n",
       "<p>111438 rows × 10 columns</p>\n",
       "</div>"
      ],
      "text/plain": [
       "        Direction  Year        Date    Weekday Country Commodity  \\\n",
       "0         Exports  2015  01/01/2015   Thursday     All       All   \n",
       "1         Exports  2015  02/01/2015     Friday     All       All   \n",
       "2         Exports  2015  03/01/2015   Saturday     All       All   \n",
       "3         Exports  2015  04/01/2015     Sunday     All       All   \n",
       "4         Exports  2015  05/01/2015     Monday     All       All   \n",
       "...           ...   ...         ...        ...     ...       ...   \n",
       "111433  Reimports  2021  11/12/2021   Saturday     All       All   \n",
       "111434  Reimports  2021  12/12/2021     Sunday     All       All   \n",
       "111435  Reimports  2021  13/12/2021     Monday     All       All   \n",
       "111436  Reimports  2021  14/12/2021    Tuesday     All       All   \n",
       "111437  Reimports  2021  15/12/2021  Wednesday     All       All   \n",
       "\n",
       "       Transport_Mode Measure      Value  Cumulative  \n",
       "0                 All       $  104000000   104000000  \n",
       "1                 All       $   96000000   200000000  \n",
       "2                 All       $   61000000   262000000  \n",
       "3                 All       $   74000000   336000000  \n",
       "4                 All       $  105000000   442000000  \n",
       "...               ...     ...        ...         ...  \n",
       "111433            All       $          0   165000000  \n",
       "111434            All       $          0   165000000  \n",
       "111435            All       $    2000000   166000000  \n",
       "111436            All       $    1000000   167000000  \n",
       "111437            All       $    1000000   168000000  \n",
       "\n",
       "[111438 rows x 10 columns]"
      ]
     },
     "execution_count": 57,
     "metadata": {},
     "output_type": "execute_result"
    }
   ],
   "source": [
    "df #Looking the file"
   ]
  },
  {
   "cell_type": "markdown",
   "id": "9880ac8f",
   "metadata": {},
   "source": [
    "## As you can see it has mixed values, like there are numbers and alphabets and stuff. To plot and visualzie you need to clean the data that is drop coloums with \"mixed\" datatypes, Next we'll drop such coloumns totally."
   ]
  },
  {
   "cell_type": "code",
   "execution_count": 58,
   "id": "048360ab",
   "metadata": {},
   "outputs": [],
   "source": [
    "df.drop(['Direction' , 'Year' , 'Date' , 'Weekday' , 'Commodity' , 'Transport_Mode' , 'Measure'], inplace=True, axis=1)"
   ]
  },
  {
   "cell_type": "code",
   "execution_count": 59,
   "id": "8026ea46",
   "metadata": {},
   "outputs": [],
   "source": [
    "df. drop(['Country'],axis=1,inplace=True)"
   ]
  },
  {
   "cell_type": "markdown",
   "id": "858d154f",
   "metadata": {},
   "source": [
    "## New dataframe after dropping redudant coloums"
   ]
  },
  {
   "cell_type": "code",
   "execution_count": 60,
   "id": "b6ba9ec8",
   "metadata": {},
   "outputs": [
    {
     "data": {
      "text/html": [
       "<div>\n",
       "<style scoped>\n",
       "    .dataframe tbody tr th:only-of-type {\n",
       "        vertical-align: middle;\n",
       "    }\n",
       "\n",
       "    .dataframe tbody tr th {\n",
       "        vertical-align: top;\n",
       "    }\n",
       "\n",
       "    .dataframe thead th {\n",
       "        text-align: right;\n",
       "    }\n",
       "</style>\n",
       "<table border=\"1\" class=\"dataframe\">\n",
       "  <thead>\n",
       "    <tr style=\"text-align: right;\">\n",
       "      <th></th>\n",
       "      <th>Value</th>\n",
       "      <th>Cumulative</th>\n",
       "    </tr>\n",
       "  </thead>\n",
       "  <tbody>\n",
       "    <tr>\n",
       "      <th>0</th>\n",
       "      <td>104000000</td>\n",
       "      <td>104000000</td>\n",
       "    </tr>\n",
       "    <tr>\n",
       "      <th>1</th>\n",
       "      <td>96000000</td>\n",
       "      <td>200000000</td>\n",
       "    </tr>\n",
       "    <tr>\n",
       "      <th>2</th>\n",
       "      <td>61000000</td>\n",
       "      <td>262000000</td>\n",
       "    </tr>\n",
       "    <tr>\n",
       "      <th>3</th>\n",
       "      <td>74000000</td>\n",
       "      <td>336000000</td>\n",
       "    </tr>\n",
       "    <tr>\n",
       "      <th>4</th>\n",
       "      <td>105000000</td>\n",
       "      <td>442000000</td>\n",
       "    </tr>\n",
       "    <tr>\n",
       "      <th>...</th>\n",
       "      <td>...</td>\n",
       "      <td>...</td>\n",
       "    </tr>\n",
       "    <tr>\n",
       "      <th>111433</th>\n",
       "      <td>0</td>\n",
       "      <td>165000000</td>\n",
       "    </tr>\n",
       "    <tr>\n",
       "      <th>111434</th>\n",
       "      <td>0</td>\n",
       "      <td>165000000</td>\n",
       "    </tr>\n",
       "    <tr>\n",
       "      <th>111435</th>\n",
       "      <td>2000000</td>\n",
       "      <td>166000000</td>\n",
       "    </tr>\n",
       "    <tr>\n",
       "      <th>111436</th>\n",
       "      <td>1000000</td>\n",
       "      <td>167000000</td>\n",
       "    </tr>\n",
       "    <tr>\n",
       "      <th>111437</th>\n",
       "      <td>1000000</td>\n",
       "      <td>168000000</td>\n",
       "    </tr>\n",
       "  </tbody>\n",
       "</table>\n",
       "<p>111438 rows × 2 columns</p>\n",
       "</div>"
      ],
      "text/plain": [
       "            Value  Cumulative\n",
       "0       104000000   104000000\n",
       "1        96000000   200000000\n",
       "2        61000000   262000000\n",
       "3        74000000   336000000\n",
       "4       105000000   442000000\n",
       "...           ...         ...\n",
       "111433          0   165000000\n",
       "111434          0   165000000\n",
       "111435    2000000   166000000\n",
       "111436    1000000   167000000\n",
       "111437    1000000   168000000\n",
       "\n",
       "[111438 rows x 2 columns]"
      ]
     },
     "execution_count": 60,
     "metadata": {},
     "output_type": "execute_result"
    }
   ],
   "source": [
    "df"
   ]
  },
  {
   "cell_type": "markdown",
   "id": "6ff86c55",
   "metadata": {},
   "source": [
    "## df.describe will describe the entire database, count, mean as you see below, (this covers your Question 2)"
   ]
  },
  {
   "cell_type": "code",
   "execution_count": 61,
   "id": "8b7aa6d4",
   "metadata": {},
   "outputs": [
    {
     "data": {
      "text/html": [
       "<div>\n",
       "<style scoped>\n",
       "    .dataframe tbody tr th:only-of-type {\n",
       "        vertical-align: middle;\n",
       "    }\n",
       "\n",
       "    .dataframe tbody tr th {\n",
       "        vertical-align: top;\n",
       "    }\n",
       "\n",
       "    .dataframe thead th {\n",
       "        text-align: right;\n",
       "    }\n",
       "</style>\n",
       "<table border=\"1\" class=\"dataframe\">\n",
       "  <thead>\n",
       "    <tr style=\"text-align: right;\">\n",
       "      <th></th>\n",
       "      <th>Value</th>\n",
       "      <th>Cumulative</th>\n",
       "    </tr>\n",
       "  </thead>\n",
       "  <tbody>\n",
       "    <tr>\n",
       "      <th>count</th>\n",
       "      <td>1.114380e+05</td>\n",
       "      <td>1.114380e+05</td>\n",
       "    </tr>\n",
       "    <tr>\n",
       "      <th>mean</th>\n",
       "      <td>2.905750e+07</td>\n",
       "      <td>5.174254e+09</td>\n",
       "    </tr>\n",
       "    <tr>\n",
       "      <th>std</th>\n",
       "      <td>5.267248e+07</td>\n",
       "      <td>9.765606e+09</td>\n",
       "    </tr>\n",
       "    <tr>\n",
       "      <th>min</th>\n",
       "      <td>0.000000e+00</td>\n",
       "      <td>0.000000e+00</td>\n",
       "    </tr>\n",
       "    <tr>\n",
       "      <th>25%</th>\n",
       "      <td>1.000000e+06</td>\n",
       "      <td>1.140000e+08</td>\n",
       "    </tr>\n",
       "    <tr>\n",
       "      <th>50%</th>\n",
       "      <td>8.000000e+06</td>\n",
       "      <td>1.420000e+09</td>\n",
       "    </tr>\n",
       "    <tr>\n",
       "      <th>75%</th>\n",
       "      <td>2.800000e+07</td>\n",
       "      <td>4.797000e+09</td>\n",
       "    </tr>\n",
       "    <tr>\n",
       "      <th>max</th>\n",
       "      <td>5.490000e+08</td>\n",
       "      <td>6.718000e+10</td>\n",
       "    </tr>\n",
       "  </tbody>\n",
       "</table>\n",
       "</div>"
      ],
      "text/plain": [
       "              Value    Cumulative\n",
       "count  1.114380e+05  1.114380e+05\n",
       "mean   2.905750e+07  5.174254e+09\n",
       "std    5.267248e+07  9.765606e+09\n",
       "min    0.000000e+00  0.000000e+00\n",
       "25%    1.000000e+06  1.140000e+08\n",
       "50%    8.000000e+06  1.420000e+09\n",
       "75%    2.800000e+07  4.797000e+09\n",
       "max    5.490000e+08  6.718000e+10"
      ]
     },
     "execution_count": 61,
     "metadata": {},
     "output_type": "execute_result"
    }
   ],
   "source": [
    "df.describe()"
   ]
  },
  {
   "cell_type": "markdown",
   "id": "1c533efc",
   "metadata": {},
   "source": [
    "## Mean of all Coloums"
   ]
  },
  {
   "cell_type": "code",
   "execution_count": 62,
   "id": "600bb50e",
   "metadata": {},
   "outputs": [
    {
     "data": {
      "text/plain": [
       "Value         2.905750e+07\n",
       "Cumulative    5.174254e+09\n",
       "dtype: float64"
      ]
     },
     "execution_count": 62,
     "metadata": {},
     "output_type": "execute_result"
    }
   ],
   "source": [
    "df.mean(axis = 0)"
   ]
  },
  {
   "cell_type": "markdown",
   "id": "69401a97",
   "metadata": {},
   "source": [
    "## Mean of all Rows"
   ]
  },
  {
   "cell_type": "code",
   "execution_count": 63,
   "id": "f5b9c4ea",
   "metadata": {},
   "outputs": [
    {
     "data": {
      "text/plain": [
       "0         104000000.0\n",
       "1         148000000.0\n",
       "2         161500000.0\n",
       "3         205000000.0\n",
       "4         273500000.0\n",
       "             ...     \n",
       "111433     82500000.0\n",
       "111434     82500000.0\n",
       "111435     84000000.0\n",
       "111436     84000000.0\n",
       "111437     84500000.0\n",
       "Length: 111438, dtype: float64"
      ]
     },
     "execution_count": 63,
     "metadata": {},
     "output_type": "execute_result"
    }
   ],
   "source": [
    "df.mean(axis = 1)"
   ]
  },
  {
   "cell_type": "markdown",
   "id": "83efb40f",
   "metadata": {},
   "source": [
    "## The plot is kinda weird its cause of the data, use something else it shold be fine."
   ]
  },
  {
   "cell_type": "code",
   "execution_count": 64,
   "id": "3cb0db05",
   "metadata": {},
   "outputs": [
    {
     "name": "stderr",
     "output_type": "stream",
     "text": [
      "C:\\Users\\ANANTS~1\\AppData\\Local\\Temp/ipykernel_12004/695219324.py:1: FutureWarning: In a future version of pandas all arguments of DataFrame.set_index except for the argument 'keys' will be keyword-only\n",
      "  df.set_index('Value' , 'Cumulative').plot()\n"
     ]
    },
    {
     "data": {
      "text/plain": [
       "<AxesSubplot:xlabel='Value'>"
      ]
     },
     "execution_count": 64,
     "metadata": {},
     "output_type": "execute_result"
    },
    {
     "data": {
      "image/png": "[encoded data removed]",
      "text/plain": [
       "<Figure size 432x288 with 1 Axes>"
      ]
     },
     "metadata": {
      "needs_background": "light"
     },
     "output_type": "display_data"
    }
   ],
   "source": [
    "df.set_index('Value' , 'Cumulative').plot()"
   ]
  },
  {
   "cell_type": "markdown",
   "id": "94e682db",
   "metadata": {},
   "source": [
    "## Question 3"
   ]
  },
  {
   "cell_type": "markdown",
   "id": "b1529b68",
   "metadata": {},
   "source": [
    "### Creating a new file from within the code and writing index from n = 1 to 100, change and play aorund with it"
   ]
  },
  {
   "cell_type": "code",
   "execution_count": 91,
   "id": "2de9f052",
   "metadata": {},
   "outputs": [
    {
     "name": "stdout",
     "output_type": "stream",
     "text": [
      "[0, 1, 2, 3, 4, 5, 6, 7, 8, 9, 10, 11, 12, 13, 14, 15, 16, 17, 18, 19, 20, 21, 22, 23, 24, 25, 26, 27, 28, 29, 30, 31, 32, 33, 34, 35, 36, 37, 38, 39, 40, 41, 42, 43, 44, 45, 46, 47, 48, 49, 50, 51, 52, 53, 54, 55, 56, 57, 58, 59, 60, 61, 62, 63, 64, 65, 66, 67, 68, 69, 70, 71, 72, 73, 74, 75, 76, 77, 78, 79, 80, 81, 82, 83, 84, 85, 86, 87, 88, 89, 90, 91, 92, 93, 94, 95, 96, 97, 98, 99]\n"
     ]
    }
   ],
   "source": [
    "file_1 = []                               #decalring a empty array of 2 dimension\n",
    "file_2 = []\n",
    "\n",
    "for i in range(100):\n",
    "    file_1.append(i)                      #creating a array of 100 numbers to print in the file\n",
    "    \n",
    "print(file_1)"
   ]
  },
  {
   "cell_type": "code",
   "execution_count": 92,
   "id": "7be2b30b",
   "metadata": {},
   "outputs": [
    {
     "name": "stdout",
     "output_type": "stream",
     "text": [
      "[78, 98, 118, 138, 158, 178, 198, 218, 238, 258, 278, 298, 318, 338, 358, 378, 398, 418, 438, 458, 478, 498, 518, 538, 558, 578, 598, 618, 638, 658, 678, 698, 718, 738, 758, 778, 798, 818, 838, 858, 878, 898, 918, 938, 958, 978, 998, 1018, 1038, 1058, 1078, 1098, 1118, 1138, 1158, 1178, 1198, 1218, 1238, 1258, 1278, 1298, 1318, 1338, 1358, 1378, 1398, 1418, 1438, 1458, 1478, 1498, 1518, 1538, 1558, 1578, 1598, 1618, 1638, 1658, 1678, 1698, 1718, 1738, 1758, 1778, 1798, 1818, 1838, 1858, 1878, 1898, 1918, 1938, 1958, 1978, 1998, 2018, 2038, 2058]\n"
     ]
    }
   ],
   "source": [
    "a = 20\n",
    "b = 78\n",
    "\n",
    "for i in range(100):\n",
    "    file_2.append(a*i + b)\n",
    "    \n",
    "print(file_2)"
   ]
  },
  {
   "cell_type": "markdown",
   "id": "df094a8d",
   "metadata": {},
   "source": [
    "## Stacking 2 array(s) and converting them to a single array"
   ]
  },
  {
   "cell_type": "code",
   "execution_count": 117,
   "id": "ec645b05",
   "metadata": {},
   "outputs": [],
   "source": [
    "file_1 = np.hstack(file_2)"
   ]
  },
  {
   "cell_type": "code",
   "execution_count": 118,
   "id": "d9ef42af",
   "metadata": {},
   "outputs": [],
   "source": [
    "file_df = pd.DataFrame(file_1)"
   ]
  },
  {
   "cell_type": "markdown",
   "id": "b282c6ab",
   "metadata": {},
   "source": [
    "## Coverting the combined array to a CSV File"
   ]
  },
  {
   "cell_type": "code",
   "execution_count": 133,
   "id": "202013cf",
   "metadata": {},
   "outputs": [],
   "source": [
    "file_df.to_csv('new_file.csv')"
   ]
  },
  {
   "cell_type": "markdown",
   "id": "3d7168c8",
   "metadata": {},
   "source": [
    "### Accessing the file and readinf the file to check whether it synced"
   ]
  },
  {
   "cell_type": "code",
   "execution_count": 134,
   "id": "c131dbb0",
   "metadata": {},
   "outputs": [],
   "source": [
    "df_new = pd.read_csv(r'C:\\Users\\Anant Sharma\\Documents\\GitHub\\Quantum_Stuff\\new_file.csv') "
   ]
  },
  {
   "cell_type": "code",
   "execution_count": 135,
   "id": "57f1562f",
   "metadata": {},
   "outputs": [
    {
     "data": {
      "text/html": [
       "<div>\n",
       "<style scoped>\n",
       "    .dataframe tbody tr th:only-of-type {\n",
       "        vertical-align: middle;\n",
       "    }\n",
       "\n",
       "    .dataframe tbody tr th {\n",
       "        vertical-align: top;\n",
       "    }\n",
       "\n",
       "    .dataframe thead th {\n",
       "        text-align: right;\n",
       "    }\n",
       "</style>\n",
       "<table border=\"1\" class=\"dataframe\">\n",
       "  <thead>\n",
       "    <tr style=\"text-align: right;\">\n",
       "      <th></th>\n",
       "      <th>Unnamed: 0</th>\n",
       "      <th>0</th>\n",
       "    </tr>\n",
       "  </thead>\n",
       "  <tbody>\n",
       "    <tr>\n",
       "      <th>0</th>\n",
       "      <td>0</td>\n",
       "      <td>78</td>\n",
       "    </tr>\n",
       "    <tr>\n",
       "      <th>1</th>\n",
       "      <td>1</td>\n",
       "      <td>98</td>\n",
       "    </tr>\n",
       "    <tr>\n",
       "      <th>2</th>\n",
       "      <td>2</td>\n",
       "      <td>118</td>\n",
       "    </tr>\n",
       "    <tr>\n",
       "      <th>3</th>\n",
       "      <td>3</td>\n",
       "      <td>138</td>\n",
       "    </tr>\n",
       "    <tr>\n",
       "      <th>4</th>\n",
       "      <td>4</td>\n",
       "      <td>158</td>\n",
       "    </tr>\n",
       "    <tr>\n",
       "      <th>...</th>\n",
       "      <td>...</td>\n",
       "      <td>...</td>\n",
       "    </tr>\n",
       "    <tr>\n",
       "      <th>95</th>\n",
       "      <td>95</td>\n",
       "      <td>1978</td>\n",
       "    </tr>\n",
       "    <tr>\n",
       "      <th>96</th>\n",
       "      <td>96</td>\n",
       "      <td>1998</td>\n",
       "    </tr>\n",
       "    <tr>\n",
       "      <th>97</th>\n",
       "      <td>97</td>\n",
       "      <td>2018</td>\n",
       "    </tr>\n",
       "    <tr>\n",
       "      <th>98</th>\n",
       "      <td>98</td>\n",
       "      <td>2038</td>\n",
       "    </tr>\n",
       "    <tr>\n",
       "      <th>99</th>\n",
       "      <td>99</td>\n",
       "      <td>2058</td>\n",
       "    </tr>\n",
       "  </tbody>\n",
       "</table>\n",
       "<p>100 rows × 2 columns</p>\n",
       "</div>"
      ],
      "text/plain": [
       "    Unnamed: 0     0\n",
       "0            0    78\n",
       "1            1    98\n",
       "2            2   118\n",
       "3            3   138\n",
       "4            4   158\n",
       "..         ...   ...\n",
       "95          95  1978\n",
       "96          96  1998\n",
       "97          97  2018\n",
       "98          98  2038\n",
       "99          99  2058\n",
       "\n",
       "[100 rows x 2 columns]"
      ]
     },
     "execution_count": 135,
     "metadata": {},
     "output_type": "execute_result"
    }
   ],
   "source": [
    "df_new"
   ]
  },
  {
   "cell_type": "markdown",
   "id": "f3658251",
   "metadata": {},
   "source": [
    "## Question 4, here on i am out of expertise Just googling and solving this, there will an alternate method alwys available, try them too."
   ]
  },
  {
   "cell_type": "code",
   "execution_count": 137,
   "id": "3a66cd66",
   "metadata": {},
   "outputs": [],
   "source": [
    "X = df_new.iloc[:, 0].values.reshape(-1, 1)  # values converts it into a numpy array\n",
    "Y = df_new.iloc[:, 1].values.reshape(-1, 1)  # -1 means that calculate the dimension of rows, but have 1 column\n",
    "linear_regressor = LinearRegression()  # create object for the class\n",
    "linear_regressor.fit(X, Y)  # perform linear regression\n",
    "Y_pred = linear_regressor.predict(X)  # make predictions"
   ]
  },
  {
   "cell_type": "code",
   "execution_count": 138,
   "id": "164c2dc6",
   "metadata": {},
   "outputs": [
    {
     "data": {
      "image/png": "[encoded data removed]",
      "text/plain": [
       "<Figure size 432x288 with 1 Axes>"
      ]
     },
     "metadata": {
      "needs_background": "light"
     },
     "output_type": "display_data"
    }
   ],
   "source": [
    "plt.scatter(X, Y)\n",
    "plt.plot(X, Y_pred, color='red')\n",
    "plt.show()"
   ]
  },
  {
   "cell_type": "markdown",
   "id": "3ff0b3c3",
   "metadata": {},
   "source": [
    "## Seen above the data fits perfectly cause, a*n + b, is a linear regression so thats that."
   ]
  },
  {
   "cell_type": "markdown",
   "id": "78b3b765",
   "metadata": {},
   "source": [
    "# Question 5, Same just googled idk what I am doing. I feel add noise refers to adding redundant values, so I will create a array called noise and will merge it with the main array and again plot to see the difference."
   ]
  },
  {
   "cell_type": "code",
   "execution_count": 253,
   "id": "10f0de22",
   "metadata": {},
   "outputs": [],
   "source": [
    "# noise = np.random.normal(0,1,100)     #used normal distribution for generating noise\n",
    "noise = np.random.uniform(low=0.0, high=1.0, size=100)  #used uniform distribution for generating noise \n",
    "                                                         #limited between 0 and 1 change and play around\n",
    "# noise = np.random.chisquare(14 , 100)        #used chisq w degrees fo freedom = 14, distribution for generating noise"
   ]
  },
  {
   "cell_type": "markdown",
   "id": "ccdd87bb",
   "metadata": {},
   "source": [
    "## coverting the random elements to array, as arrays can be merged and stuff\n"
   ]
  },
  {
   "cell_type": "code",
   "execution_count": 254,
   "id": "bfb51252",
   "metadata": {},
   "outputs": [],
   "source": [
    "noise = np.asarray(noise)"
   ]
  },
  {
   "cell_type": "markdown",
   "id": "ff36005b",
   "metadata": {},
   "source": [
    "## Created a new dataframe for the noise"
   ]
  },
  {
   "cell_type": "code",
   "execution_count": 255,
   "id": "9fae7da0",
   "metadata": {},
   "outputs": [],
   "source": [
    "noise_new = pd.DataFrame(noise)"
   ]
  },
  {
   "cell_type": "markdown",
   "id": "c013dfd7",
   "metadata": {},
   "source": [
    "## The older dataframe w n and a*n+b"
   ]
  },
  {
   "cell_type": "code",
   "execution_count": 256,
   "id": "fc8d9fdc",
   "metadata": {},
   "outputs": [
    {
     "data": {
      "text/html": [
       "<div>\n",
       "<style scoped>\n",
       "    .dataframe tbody tr th:only-of-type {\n",
       "        vertical-align: middle;\n",
       "    }\n",
       "\n",
       "    .dataframe tbody tr th {\n",
       "        vertical-align: top;\n",
       "    }\n",
       "\n",
       "    .dataframe thead th {\n",
       "        text-align: right;\n",
       "    }\n",
       "</style>\n",
       "<table border=\"1\" class=\"dataframe\">\n",
       "  <thead>\n",
       "    <tr style=\"text-align: right;\">\n",
       "      <th></th>\n",
       "      <th>Unnamed: 0</th>\n",
       "      <th>0</th>\n",
       "    </tr>\n",
       "  </thead>\n",
       "  <tbody>\n",
       "    <tr>\n",
       "      <th>0</th>\n",
       "      <td>0</td>\n",
       "      <td>78</td>\n",
       "    </tr>\n",
       "    <tr>\n",
       "      <th>1</th>\n",
       "      <td>1</td>\n",
       "      <td>98</td>\n",
       "    </tr>\n",
       "    <tr>\n",
       "      <th>2</th>\n",
       "      <td>2</td>\n",
       "      <td>118</td>\n",
       "    </tr>\n",
       "    <tr>\n",
       "      <th>3</th>\n",
       "      <td>3</td>\n",
       "      <td>138</td>\n",
       "    </tr>\n",
       "    <tr>\n",
       "      <th>4</th>\n",
       "      <td>4</td>\n",
       "      <td>158</td>\n",
       "    </tr>\n",
       "    <tr>\n",
       "      <th>...</th>\n",
       "      <td>...</td>\n",
       "      <td>...</td>\n",
       "    </tr>\n",
       "    <tr>\n",
       "      <th>95</th>\n",
       "      <td>95</td>\n",
       "      <td>1978</td>\n",
       "    </tr>\n",
       "    <tr>\n",
       "      <th>96</th>\n",
       "      <td>96</td>\n",
       "      <td>1998</td>\n",
       "    </tr>\n",
       "    <tr>\n",
       "      <th>97</th>\n",
       "      <td>97</td>\n",
       "      <td>2018</td>\n",
       "    </tr>\n",
       "    <tr>\n",
       "      <th>98</th>\n",
       "      <td>98</td>\n",
       "      <td>2038</td>\n",
       "    </tr>\n",
       "    <tr>\n",
       "      <th>99</th>\n",
       "      <td>99</td>\n",
       "      <td>2058</td>\n",
       "    </tr>\n",
       "  </tbody>\n",
       "</table>\n",
       "<p>100 rows × 2 columns</p>\n",
       "</div>"
      ],
      "text/plain": [
       "    Unnamed: 0     0\n",
       "0            0    78\n",
       "1            1    98\n",
       "2            2   118\n",
       "3            3   138\n",
       "4            4   158\n",
       "..         ...   ...\n",
       "95          95  1978\n",
       "96          96  1998\n",
       "97          97  2018\n",
       "98          98  2038\n",
       "99          99  2058\n",
       "\n",
       "[100 rows x 2 columns]"
      ]
     },
     "execution_count": 256,
     "metadata": {},
     "output_type": "execute_result"
    }
   ],
   "source": [
    "df_new"
   ]
  },
  {
   "cell_type": "markdown",
   "id": "b6660877",
   "metadata": {},
   "source": [
    "## New data frame with the noise element"
   ]
  },
  {
   "cell_type": "code",
   "execution_count": 257,
   "id": "e8776714",
   "metadata": {},
   "outputs": [
    {
     "data": {
      "text/html": [
       "<div>\n",
       "<style scoped>\n",
       "    .dataframe tbody tr th:only-of-type {\n",
       "        vertical-align: middle;\n",
       "    }\n",
       "\n",
       "    .dataframe tbody tr th {\n",
       "        vertical-align: top;\n",
       "    }\n",
       "\n",
       "    .dataframe thead th {\n",
       "        text-align: right;\n",
       "    }\n",
       "</style>\n",
       "<table border=\"1\" class=\"dataframe\">\n",
       "  <thead>\n",
       "    <tr style=\"text-align: right;\">\n",
       "      <th></th>\n",
       "      <th>0</th>\n",
       "    </tr>\n",
       "  </thead>\n",
       "  <tbody>\n",
       "    <tr>\n",
       "      <th>0</th>\n",
       "      <td>0.433515</td>\n",
       "    </tr>\n",
       "    <tr>\n",
       "      <th>1</th>\n",
       "      <td>0.625842</td>\n",
       "    </tr>\n",
       "    <tr>\n",
       "      <th>2</th>\n",
       "      <td>0.859731</td>\n",
       "    </tr>\n",
       "    <tr>\n",
       "      <th>3</th>\n",
       "      <td>0.667612</td>\n",
       "    </tr>\n",
       "    <tr>\n",
       "      <th>4</th>\n",
       "      <td>0.571404</td>\n",
       "    </tr>\n",
       "    <tr>\n",
       "      <th>...</th>\n",
       "      <td>...</td>\n",
       "    </tr>\n",
       "    <tr>\n",
       "      <th>95</th>\n",
       "      <td>0.509396</td>\n",
       "    </tr>\n",
       "    <tr>\n",
       "      <th>96</th>\n",
       "      <td>0.470851</td>\n",
       "    </tr>\n",
       "    <tr>\n",
       "      <th>97</th>\n",
       "      <td>0.101054</td>\n",
       "    </tr>\n",
       "    <tr>\n",
       "      <th>98</th>\n",
       "      <td>0.249374</td>\n",
       "    </tr>\n",
       "    <tr>\n",
       "      <th>99</th>\n",
       "      <td>0.472654</td>\n",
       "    </tr>\n",
       "  </tbody>\n",
       "</table>\n",
       "<p>100 rows × 1 columns</p>\n",
       "</div>"
      ],
      "text/plain": [
       "           0\n",
       "0   0.433515\n",
       "1   0.625842\n",
       "2   0.859731\n",
       "3   0.667612\n",
       "4   0.571404\n",
       "..       ...\n",
       "95  0.509396\n",
       "96  0.470851\n",
       "97  0.101054\n",
       "98  0.249374\n",
       "99  0.472654\n",
       "\n",
       "[100 rows x 1 columns]"
      ]
     },
     "execution_count": 257,
     "metadata": {},
     "output_type": "execute_result"
    }
   ],
   "source": [
    "noise_new"
   ]
  },
  {
   "cell_type": "code",
   "execution_count": 258,
   "id": "629c4d84",
   "metadata": {},
   "outputs": [],
   "source": [
    "frames = [df_new , noise_new]"
   ]
  },
  {
   "cell_type": "markdown",
   "id": "7e252a92",
   "metadata": {},
   "source": [
    "## Concatinating the 2 dataframes into one"
   ]
  },
  {
   "cell_type": "code",
   "execution_count": 259,
   "id": "7686cf7c",
   "metadata": {},
   "outputs": [],
   "source": [
    "result = pd.concat(frames , axis=1)"
   ]
  },
  {
   "cell_type": "code",
   "execution_count": 260,
   "id": "6be3ad41",
   "metadata": {},
   "outputs": [],
   "source": [
    "result.columns =['n', 'a*n+b', 'noise']  #this i forgot to five column headers so i added it here."
   ]
  },
  {
   "cell_type": "code",
   "execution_count": 261,
   "id": "081831b6",
   "metadata": {},
   "outputs": [
    {
     "data": {
      "text/html": [
       "<div>\n",
       "<style scoped>\n",
       "    .dataframe tbody tr th:only-of-type {\n",
       "        vertical-align: middle;\n",
       "    }\n",
       "\n",
       "    .dataframe tbody tr th {\n",
       "        vertical-align: top;\n",
       "    }\n",
       "\n",
       "    .dataframe thead th {\n",
       "        text-align: right;\n",
       "    }\n",
       "</style>\n",
       "<table border=\"1\" class=\"dataframe\">\n",
       "  <thead>\n",
       "    <tr style=\"text-align: right;\">\n",
       "      <th></th>\n",
       "      <th>n</th>\n",
       "      <th>a*n+b</th>\n",
       "      <th>noise</th>\n",
       "    </tr>\n",
       "  </thead>\n",
       "  <tbody>\n",
       "    <tr>\n",
       "      <th>0</th>\n",
       "      <td>0</td>\n",
       "      <td>78</td>\n",
       "      <td>0.433515</td>\n",
       "    </tr>\n",
       "    <tr>\n",
       "      <th>1</th>\n",
       "      <td>1</td>\n",
       "      <td>98</td>\n",
       "      <td>0.625842</td>\n",
       "    </tr>\n",
       "    <tr>\n",
       "      <th>2</th>\n",
       "      <td>2</td>\n",
       "      <td>118</td>\n",
       "      <td>0.859731</td>\n",
       "    </tr>\n",
       "    <tr>\n",
       "      <th>3</th>\n",
       "      <td>3</td>\n",
       "      <td>138</td>\n",
       "      <td>0.667612</td>\n",
       "    </tr>\n",
       "    <tr>\n",
       "      <th>4</th>\n",
       "      <td>4</td>\n",
       "      <td>158</td>\n",
       "      <td>0.571404</td>\n",
       "    </tr>\n",
       "    <tr>\n",
       "      <th>...</th>\n",
       "      <td>...</td>\n",
       "      <td>...</td>\n",
       "      <td>...</td>\n",
       "    </tr>\n",
       "    <tr>\n",
       "      <th>95</th>\n",
       "      <td>95</td>\n",
       "      <td>1978</td>\n",
       "      <td>0.509396</td>\n",
       "    </tr>\n",
       "    <tr>\n",
       "      <th>96</th>\n",
       "      <td>96</td>\n",
       "      <td>1998</td>\n",
       "      <td>0.470851</td>\n",
       "    </tr>\n",
       "    <tr>\n",
       "      <th>97</th>\n",
       "      <td>97</td>\n",
       "      <td>2018</td>\n",
       "      <td>0.101054</td>\n",
       "    </tr>\n",
       "    <tr>\n",
       "      <th>98</th>\n",
       "      <td>98</td>\n",
       "      <td>2038</td>\n",
       "      <td>0.249374</td>\n",
       "    </tr>\n",
       "    <tr>\n",
       "      <th>99</th>\n",
       "      <td>99</td>\n",
       "      <td>2058</td>\n",
       "      <td>0.472654</td>\n",
       "    </tr>\n",
       "  </tbody>\n",
       "</table>\n",
       "<p>100 rows × 3 columns</p>\n",
       "</div>"
      ],
      "text/plain": [
       "     n  a*n+b     noise\n",
       "0    0     78  0.433515\n",
       "1    1     98  0.625842\n",
       "2    2    118  0.859731\n",
       "3    3    138  0.667612\n",
       "4    4    158  0.571404\n",
       "..  ..    ...       ...\n",
       "95  95   1978  0.509396\n",
       "96  96   1998  0.470851\n",
       "97  97   2018  0.101054\n",
       "98  98   2038  0.249374\n",
       "99  99   2058  0.472654\n",
       "\n",
       "[100 rows x 3 columns]"
      ]
     },
     "execution_count": 261,
     "metadata": {},
     "output_type": "execute_result"
    }
   ],
   "source": [
    "result                                   #new data frame with noise as a coloum now we can esily add them to our values"
   ]
  },
  {
   "cell_type": "code",
   "execution_count": 262,
   "id": "d25d48f2",
   "metadata": {},
   "outputs": [],
   "source": [
    "total_n = result['n'] + result['noise']       # Adding noise values to 'n' column"
   ]
  },
  {
   "cell_type": "code",
   "execution_count": 263,
   "id": "be85f0b5",
   "metadata": {},
   "outputs": [
    {
     "data": {
      "text/plain": [
       "0      0.433515\n",
       "1      1.625842\n",
       "2      2.859731\n",
       "3      3.667612\n",
       "4      4.571404\n",
       "        ...    \n",
       "95    95.509396\n",
       "96    96.470851\n",
       "97    97.101054\n",
       "98    98.249374\n",
       "99    99.472654\n",
       "Length: 100, dtype: float64"
      ]
     },
     "execution_count": 263,
     "metadata": {},
     "output_type": "execute_result"
    }
   ],
   "source": [
    "total_n                                      # Printing them "
   ]
  },
  {
   "cell_type": "code",
   "execution_count": 264,
   "id": "7185c798",
   "metadata": {},
   "outputs": [],
   "source": [
    "total_ab = result['a*n+b'] + result['noise']      #adding noise to the a*n+b column"
   ]
  },
  {
   "cell_type": "code",
   "execution_count": 265,
   "id": "3ef10eab",
   "metadata": {},
   "outputs": [],
   "source": [
    "frames_new = [total_n, total_ab]                  #printing them"
   ]
  },
  {
   "cell_type": "code",
   "execution_count": 266,
   "id": "c7ef31cc",
   "metadata": {},
   "outputs": [],
   "source": [
    "noise_result = pd.concat(frames_new , axis=1)      #concatinting the new noise added columns into new dataframe"
   ]
  },
  {
   "cell_type": "markdown",
   "id": "0dd9ae0c",
   "metadata": {},
   "source": [
    "## Plotting after Noise addition"
   ]
  },
  {
   "cell_type": "code",
   "execution_count": 267,
   "id": "bb87cb1a",
   "metadata": {},
   "outputs": [],
   "source": [
    "X = noise_result.iloc[:, 0].values.reshape(-1, 1)  # values converts it into a numpy array\n",
    "Y = noise_result.iloc[:, 1].values.reshape(-1, 1)  # -1 means that calculate the dimension of rows, but have 1 column\n",
    "linear_regressor = LinearRegression()  # create object for the class\n",
    "linear_regressor.fit(X, Y)  # perform linear regression\n",
    "Y_pred = linear_regressor.predict(X)  # make predictions"
   ]
  },
  {
   "cell_type": "code",
   "execution_count": 268,
   "id": "b5b2a613",
   "metadata": {},
   "outputs": [
    {
     "data": {
      "image/png": "[encoded data removed]",
      "text/plain": [
       "<Figure size 432x288 with 1 Axes>"
      ]
     },
     "metadata": {
      "needs_background": "light"
     },
     "output_type": "display_data"
    }
   ],
   "source": [
    "plt.scatter(X, Y)\n",
    "plt.plot(X, Y_pred, color='red')\n",
    "plt.show()"
   ]
  },
  {
   "cell_type": "code",
   "execution_count": null,
   "id": "4ed06fd2",
   "metadata": {},
   "outputs": [],
   "source": []
  }
 ],
 "metadata": {
  "kernelspec": {
   "display_name": "Python 3 (ipykernel)",
   "language": "python",
   "name": "python3"
  },
  "language_info": {
   "codemirror_mode": {
    "name": "ipython",
    "version": 3
   },
   "file_extension": ".py",
   "mimetype": "text/x-python",
   "name": "python",
   "nbconvert_exporter": "python",
   "pygments_lexer": "ipython3",
   "version": "3.9.6"
  }
 },
 "nbformat": 4,
 "nbformat_minor": 5
}
