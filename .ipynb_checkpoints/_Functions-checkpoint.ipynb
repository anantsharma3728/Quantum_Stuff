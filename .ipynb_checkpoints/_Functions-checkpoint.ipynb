{
 "cells": [
  {
   "cell_type": "markdown",
   "id": "8a8be677",
   "metadata": {},
   "source": [
    "This notebook contains the imports and functions necessary for the algorithms in the other notebooks to run, this file is imported in all other notebooks."
   ]
  },
  {
   "cell_type": "markdown",
   "id": "8cf06321",
   "metadata": {},
   "source": [
    "## Imports"
   ]
  },
  {
   "cell_type": "code",
   "execution_count": 32,
   "id": "931c71bb",
   "metadata": {},
   "outputs": [],
   "source": [
    "# Import IBM secret key\n",
    "import config\n",
    "\n",
    "# Import Qiskit and Numpy\n",
    "import numpy as np\n",
    "from qiskit import *\n",
    "\n",
    "# Import random\n",
    "import random\n",
    "\n",
    "# Qiskit visualization tools\n",
    "from qiskit.visualization import plot_histogram, circuit_drawer, plot_bloch_multivector, plot_state_city\n",
    "\n",
    "# Matplotlib imports\n",
    "import matplotlib\n",
    "import matplotlib.pyplot as plt \n",
    "matplotlib.use('Agg')\n",
    "\n",
    "# Qiskit providers\n",
    "from qiskit.providers.ibmq import least_busy"
   ]
  },
  {
   "cell_type": "markdown",
   "id": "5e27d387",
   "metadata": {},
   "source": [
    "# Shows the available backends with the Account"
   ]
  },
  {
   "cell_type": "code",
   "execution_count": 30,
   "id": "9a1fd805",
   "metadata": {},
   "outputs": [],
   "source": [
    "provider = IBMQ.load_account()"
   ]
  },
  {
   "cell_type": "code",
   "execution_count": 33,
   "id": "c8a08566",
   "metadata": {},
   "outputs": [
    {
     "name": "stdout",
     "output_type": "stream",
     "text": [
      "\n",
      "Here is the list of cloud backends that are available to you:\n",
      "ibmq_qasm_simulator\n",
      "ibmq_lima\n",
      "ibmq_belem\n",
      "ibmq_quito\n",
      "simulator_statevector\n",
      "simulator_mps\n",
      "simulator_extended_stabilizer\n",
      "simulator_stabilizer\n",
      "ibmq_manila\n",
      "ibm_nairobi\n",
      "ibm_oslo\n"
     ]
    }
   ],
   "source": [
    "from qiskit import IBMQ, Aer\n",
    "from qiskit import execute, Aer\n",
    "\n",
    "available_cloud_backends = provider.backends() \n",
    "print('\\nHere is the list of cloud backends that are available to you:')\n",
    "for i in available_cloud_backends: print(i)"
   ]
  },
  {
   "cell_type": "markdown",
   "id": "8f00a164",
   "metadata": {},
   "source": [
    "# Functions"
   ]
  },
  {
   "cell_type": "markdown",
   "id": "bb3743fa",
   "metadata": {},
   "source": [
    "Draws qiskit circuit"
   ]
  },
  {
   "cell_type": "code",
   "execution_count": 34,
   "id": "e4039b19",
   "metadata": {},
   "outputs": [],
   "source": [
    "def draw(circuit):\n",
    "    return circuit.draw('mpl')"
   ]
  },
  {
   "cell_type": "markdown",
   "id": "978bc1af",
   "metadata": {},
   "source": [
    "Load IBM account to run circuits in real hardware"
   ]
  },
  {
   "cell_type": "code",
   "execution_count": 35,
   "id": "dede1a59",
   "metadata": {},
   "outputs": [],
   "source": [
    "def loadIBM():\n",
    "    try:\n",
    "        IBMQ.load_account()\n",
    "        print('Successfully loaded IBM account.')\n",
    "        print('\\nHere is the list of cloud backends that are available to you:')\n",
    "        for i in available_cloud_backends: print(i)\n",
    "    except Exception:\n",
    "        try:\n",
    "            IBMQ.save_account(f\"{config.IBM_KEY}\", overwrite = True)\n",
    "        except NameError:\n",
    "            raise Exception(\"You have not set up your config file correctly.\")"
   ]
  },
  {
   "cell_type": "markdown",
   "id": "dc7d6777",
   "metadata": {},
   "source": [
    "Runs qiskit circuit, either on hardware or in simulator"
   ]
  },
  {
   "cell_type": "code",
   "execution_count": 46,
   "id": "51ed9635",
   "metadata": {},
   "outputs": [],
   "source": [
    "def run(circuit, hardware = False):\n",
    "    if hardware:\n",
    "            provider = IBMQ.get_provider(hub='ibm-q')\n",
    "            backend  = least_busy(provider.backends())\n",
    "    else:\n",
    "        backend = BasicAer.get_backend('qasm_simulator')\n",
    "\n",
    "    result   = execute(circuit, backend, shots=1024).result()\n",
    "    counts   = result.get_counts(circuit)\n",
    "    print('Your code ran on the device') \n",
    "    print(backend)\n",
    "    \n",
    "    return (result, counts)"
   ]
  },
  {
   "cell_type": "markdown",
   "id": "fac2622f",
   "metadata": {},
   "source": [
    "Get final statevector of a circuit"
   ]
  },
  {
   "cell_type": "code",
   "execution_count": 44,
   "id": "b0a254e4",
   "metadata": {},
   "outputs": [],
   "source": [
    "def statevector(circuit):\n",
    "    backend = Aer.get_backend('statevector_simulator')\n",
    "    result = execute(circuit, backend).result()\n",
    "    return result.get_statevector(circuit)"
   ]
  },
  {
   "cell_type": "code",
   "execution_count": null,
   "id": "483f2958",
   "metadata": {},
   "outputs": [],
   "source": []
  },
  {
   "cell_type": "code",
   "execution_count": null,
   "id": "a3aeba3e",
   "metadata": {},
   "outputs": [],
   "source": []
  }
 ],
 "metadata": {
  "kernelspec": {
   "display_name": "Python 3 (ipykernel)",
   "language": "python",
   "name": "python3"
  },
  "language_info": {
   "codemirror_mode": {
    "name": "ipython",
    "version": 3
   },
   "file_extension": ".py",
   "mimetype": "text/x-python",
   "name": "python",
   "nbconvert_exporter": "python",
   "pygments_lexer": "ipython3",
   "version": "3.9.6"
  }
 },
 "nbformat": 4,
 "nbformat_minor": 5
}
